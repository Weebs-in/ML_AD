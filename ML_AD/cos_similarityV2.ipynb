{
 "cells": [
  {
   "cell_type": "code",
   "execution_count": 1,
   "id": "initial_id",
   "metadata": {
    "ExecuteTime": {
     "end_time": "2023-08-04T09:35:21.571720Z",
     "start_time": "2023-08-04T09:33:41.487996Z"
    }
   },
   "outputs": [],
   "source": [
    "import pandas as pd\n",
    "import numpy as np\n",
    "import ast\n",
    "from sklearn.preprocessing import MultiLabelBinarizer\n",
    "from gensim.models import Word2Vec\n",
    "from scipy.spatial.distance import cosine\n",
    "from sklearn.metrics.pairwise import cosine_similarity"
   ]
  },
  {
   "cell_type": "code",
   "execution_count": 2,
   "id": "5d06908b83f5c331",
   "metadata": {
    "collapsed": false,
    "jupyter": {
     "outputs_hidden": false
    }
   },
   "outputs": [],
   "source": [
    "df = pd.read_csv('books_10101.csv')"
   ]
  },
  {
   "cell_type": "code",
   "execution_count": 3,
   "id": "afb279010ae39f82",
   "metadata": {
    "collapsed": false,
    "jupyter": {
     "outputs_hidden": false
    }
   },
   "outputs": [
    {
     "data": {
      "text/html": [
       "<div>\n",
       "<style scoped>\n",
       "    .dataframe tbody tr th:only-of-type {\n",
       "        vertical-align: middle;\n",
       "    }\n",
       "\n",
       "    .dataframe tbody tr th {\n",
       "        vertical-align: top;\n",
       "    }\n",
       "\n",
       "    .dataframe thead th {\n",
       "        text-align: right;\n",
       "    }\n",
       "</style>\n",
       "<table border=\"1\" class=\"dataframe\">\n",
       "  <thead>\n",
       "    <tr style=\"text-align: right;\">\n",
       "      <th></th>\n",
       "      <th>Title</th>\n",
       "      <th>Author</th>\n",
       "      <th>Rating</th>\n",
       "      <th>Genre</th>\n",
       "      <th>Publisher</th>\n",
       "      <th>PublishDate</th>\n",
       "      <th>Unnamed: 6</th>\n",
       "    </tr>\n",
       "  </thead>\n",
       "  <tbody>\n",
       "    <tr>\n",
       "      <th>0</th>\n",
       "      <td>The Hunger Games</td>\n",
       "      <td>Suzanne Collins</td>\n",
       "      <td>4.33</td>\n",
       "      <td>['Young Adult', 'Fiction', 'Dystopia', 'Fantas...</td>\n",
       "      <td>Scholastic Press</td>\n",
       "      <td>09/14/08</td>\n",
       "      <td>NaN</td>\n",
       "    </tr>\n",
       "    <tr>\n",
       "      <th>1</th>\n",
       "      <td>Harry Potter and the Order of the Phoenix</td>\n",
       "      <td>J.K. Rowling, Mary GrandPrÃ© (Illustrator)</td>\n",
       "      <td>4.50</td>\n",
       "      <td>['Fantasy', 'Young Adult', 'Fiction', 'Magic',...</td>\n",
       "      <td>Scholastic Inc.</td>\n",
       "      <td>09/28/04</td>\n",
       "      <td>NaN</td>\n",
       "    </tr>\n",
       "    <tr>\n",
       "      <th>2</th>\n",
       "      <td>To Kill a Mockingbird</td>\n",
       "      <td>Harper Lee</td>\n",
       "      <td>4.28</td>\n",
       "      <td>['Classics', 'Fiction', 'Historical Fiction', ...</td>\n",
       "      <td>Harper Perennial Modern Classics</td>\n",
       "      <td>05/23/06</td>\n",
       "      <td>NaN</td>\n",
       "    </tr>\n",
       "    <tr>\n",
       "      <th>3</th>\n",
       "      <td>Pride and Prejudice</td>\n",
       "      <td>Jane Austen, Anna Quindlen (Introduction)</td>\n",
       "      <td>4.26</td>\n",
       "      <td>['Classics', 'Fiction', 'Romance', 'Historical...</td>\n",
       "      <td>Modern Library</td>\n",
       "      <td>10/10/00</td>\n",
       "      <td>NaN</td>\n",
       "    </tr>\n",
       "    <tr>\n",
       "      <th>4</th>\n",
       "      <td>Twilight</td>\n",
       "      <td>Stephenie Meyer</td>\n",
       "      <td>3.60</td>\n",
       "      <td>['Young Adult', 'Fantasy', 'Romance', 'Vampire...</td>\n",
       "      <td>Little, Brown and Company</td>\n",
       "      <td>9/6/06</td>\n",
       "      <td>NaN</td>\n",
       "    </tr>\n",
       "    <tr>\n",
       "      <th>5</th>\n",
       "      <td>The Book Thief</td>\n",
       "      <td>Markus Zusak (Goodreads Author)</td>\n",
       "      <td>4.37</td>\n",
       "      <td>['Historical Fiction', 'Fiction', 'Young Adult...</td>\n",
       "      <td>Alfred A. Knopf</td>\n",
       "      <td>03/14/06</td>\n",
       "      <td>NaN</td>\n",
       "    </tr>\n",
       "    <tr>\n",
       "      <th>6</th>\n",
       "      <td>Animal Farm</td>\n",
       "      <td>George Orwell, Russell Baker (Preface), C.M. W...</td>\n",
       "      <td>3.95</td>\n",
       "      <td>['Classics', 'Fiction', 'Dystopia', 'Fantasy',...</td>\n",
       "      <td>Signet Classics</td>\n",
       "      <td>04/28/96</td>\n",
       "      <td>NaN</td>\n",
       "    </tr>\n",
       "    <tr>\n",
       "      <th>7</th>\n",
       "      <td>The Chronicles of Narnia</td>\n",
       "      <td>C.S. Lewis, Pauline Baynes (Illustrator)</td>\n",
       "      <td>4.26</td>\n",
       "      <td>['Fantasy', 'Classics', 'Fiction', 'Young Adul...</td>\n",
       "      <td>HarperCollins</td>\n",
       "      <td>09/16/02</td>\n",
       "      <td>NaN</td>\n",
       "    </tr>\n",
       "    <tr>\n",
       "      <th>8</th>\n",
       "      <td>J.R.R. Tolkien 4-Book Boxed Set: The Hobbit an...</td>\n",
       "      <td>J.R.R. Tolkien</td>\n",
       "      <td>4.60</td>\n",
       "      <td>['Fantasy', 'Fiction', 'Classics', 'Adventure'...</td>\n",
       "      <td>Ballantine Books</td>\n",
       "      <td>09/25/12</td>\n",
       "      <td>NaN</td>\n",
       "    </tr>\n",
       "    <tr>\n",
       "      <th>9</th>\n",
       "      <td>Gone with the Wind</td>\n",
       "      <td>Margaret Mitchell</td>\n",
       "      <td>4.30</td>\n",
       "      <td>['Classics', 'Historical Fiction', 'Fiction', ...</td>\n",
       "      <td>Warner Books</td>\n",
       "      <td>4/1/99</td>\n",
       "      <td>NaN</td>\n",
       "    </tr>\n",
       "  </tbody>\n",
       "</table>\n",
       "</div>"
      ],
      "text/plain": [
       "                                               Title  \\\n",
       "0                                   The Hunger Games   \n",
       "1          Harry Potter and the Order of the Phoenix   \n",
       "2                              To Kill a Mockingbird   \n",
       "3                                Pride and Prejudice   \n",
       "4                                           Twilight   \n",
       "5                                     The Book Thief   \n",
       "6                                        Animal Farm   \n",
       "7                           The Chronicles of Narnia   \n",
       "8  J.R.R. Tolkien 4-Book Boxed Set: The Hobbit an...   \n",
       "9                                 Gone with the Wind   \n",
       "\n",
       "                                              Author  Rating  \\\n",
       "0                                    Suzanne Collins    4.33   \n",
       "1         J.K. Rowling, Mary GrandPrÃ© (Illustrator)    4.50   \n",
       "2                                         Harper Lee    4.28   \n",
       "3          Jane Austen, Anna Quindlen (Introduction)    4.26   \n",
       "4                                    Stephenie Meyer    3.60   \n",
       "5                    Markus Zusak (Goodreads Author)    4.37   \n",
       "6  George Orwell, Russell Baker (Preface), C.M. W...    3.95   \n",
       "7           C.S. Lewis, Pauline Baynes (Illustrator)    4.26   \n",
       "8                                     J.R.R. Tolkien    4.60   \n",
       "9                                  Margaret Mitchell    4.30   \n",
       "\n",
       "                                               Genre  \\\n",
       "0  ['Young Adult', 'Fiction', 'Dystopia', 'Fantas...   \n",
       "1  ['Fantasy', 'Young Adult', 'Fiction', 'Magic',...   \n",
       "2  ['Classics', 'Fiction', 'Historical Fiction', ...   \n",
       "3  ['Classics', 'Fiction', 'Romance', 'Historical...   \n",
       "4  ['Young Adult', 'Fantasy', 'Romance', 'Vampire...   \n",
       "5  ['Historical Fiction', 'Fiction', 'Young Adult...   \n",
       "6  ['Classics', 'Fiction', 'Dystopia', 'Fantasy',...   \n",
       "7  ['Fantasy', 'Classics', 'Fiction', 'Young Adul...   \n",
       "8  ['Fantasy', 'Fiction', 'Classics', 'Adventure'...   \n",
       "9  ['Classics', 'Historical Fiction', 'Fiction', ...   \n",
       "\n",
       "                          Publisher PublishDate  Unnamed: 6  \n",
       "0                  Scholastic Press    09/14/08         NaN  \n",
       "1                   Scholastic Inc.    09/28/04         NaN  \n",
       "2  Harper Perennial Modern Classics    05/23/06         NaN  \n",
       "3                    Modern Library    10/10/00         NaN  \n",
       "4         Little, Brown and Company      9/6/06         NaN  \n",
       "5                   Alfred A. Knopf    03/14/06         NaN  \n",
       "6                   Signet Classics    04/28/96         NaN  \n",
       "7                     HarperCollins    09/16/02         NaN  \n",
       "8                  Ballantine Books    09/25/12         NaN  \n",
       "9                      Warner Books      4/1/99         NaN  "
      ]
     },
     "execution_count": 3,
     "metadata": {},
     "output_type": "execute_result"
    }
   ],
   "source": [
    "df.head(10)"
   ]
  },
  {
   "cell_type": "code",
   "execution_count": 4,
   "id": "bf39b61ab72c8a5e",
   "metadata": {
    "collapsed": false,
    "jupyter": {
     "outputs_hidden": false
    }
   },
   "outputs": [
    {
     "data": {
      "text/html": [
       "<div>\n",
       "<style scoped>\n",
       "    .dataframe tbody tr th:only-of-type {\n",
       "        vertical-align: middle;\n",
       "    }\n",
       "\n",
       "    .dataframe tbody tr th {\n",
       "        vertical-align: top;\n",
       "    }\n",
       "\n",
       "    .dataframe thead th {\n",
       "        text-align: right;\n",
       "    }\n",
       "</style>\n",
       "<table border=\"1\" class=\"dataframe\">\n",
       "  <thead>\n",
       "    <tr style=\"text-align: right;\">\n",
       "      <th></th>\n",
       "      <th>Title</th>\n",
       "      <th>Author</th>\n",
       "      <th>Rating</th>\n",
       "      <th>Genre</th>\n",
       "      <th>Publisher</th>\n",
       "      <th>PublishDate</th>\n",
       "      <th>Unnamed: 6</th>\n",
       "    </tr>\n",
       "  </thead>\n",
       "  <tbody>\n",
       "    <tr>\n",
       "      <th>0</th>\n",
       "      <td>The Hunger Games</td>\n",
       "      <td>Suzanne Collins</td>\n",
       "      <td>4.33</td>\n",
       "      <td>['Young Adult', 'Fiction', 'Dystopia', 'Fantas...</td>\n",
       "      <td>Scholastic Press</td>\n",
       "      <td>09/14/08</td>\n",
       "      <td>NaN</td>\n",
       "    </tr>\n",
       "    <tr>\n",
       "      <th>1</th>\n",
       "      <td>Harry Potter and the Order of the Phoenix</td>\n",
       "      <td>J.K. Rowling, Mary GrandPrÃ© (Illustrator)</td>\n",
       "      <td>4.50</td>\n",
       "      <td>['Fantasy', 'Young Adult', 'Fiction', 'Magic',...</td>\n",
       "      <td>Scholastic Inc.</td>\n",
       "      <td>09/28/04</td>\n",
       "      <td>NaN</td>\n",
       "    </tr>\n",
       "    <tr>\n",
       "      <th>2</th>\n",
       "      <td>To Kill a Mockingbird</td>\n",
       "      <td>Harper Lee</td>\n",
       "      <td>4.28</td>\n",
       "      <td>['Classics', 'Fiction', 'Historical Fiction', ...</td>\n",
       "      <td>Harper Perennial Modern Classics</td>\n",
       "      <td>05/23/06</td>\n",
       "      <td>NaN</td>\n",
       "    </tr>\n",
       "    <tr>\n",
       "      <th>3</th>\n",
       "      <td>Pride and Prejudice</td>\n",
       "      <td>Jane Austen, Anna Quindlen (Introduction)</td>\n",
       "      <td>4.26</td>\n",
       "      <td>['Classics', 'Fiction', 'Romance', 'Historical...</td>\n",
       "      <td>Modern Library</td>\n",
       "      <td>10/10/00</td>\n",
       "      <td>NaN</td>\n",
       "    </tr>\n",
       "    <tr>\n",
       "      <th>4</th>\n",
       "      <td>Twilight</td>\n",
       "      <td>Stephenie Meyer</td>\n",
       "      <td>3.60</td>\n",
       "      <td>['Young Adult', 'Fantasy', 'Romance', 'Vampire...</td>\n",
       "      <td>Little, Brown and Company</td>\n",
       "      <td>9/6/06</td>\n",
       "      <td>NaN</td>\n",
       "    </tr>\n",
       "  </tbody>\n",
       "</table>\n",
       "</div>"
      ],
      "text/plain": [
       "                                       Title  \\\n",
       "0                           The Hunger Games   \n",
       "1  Harry Potter and the Order of the Phoenix   \n",
       "2                      To Kill a Mockingbird   \n",
       "3                        Pride and Prejudice   \n",
       "4                                   Twilight   \n",
       "\n",
       "                                       Author  Rating  \\\n",
       "0                             Suzanne Collins    4.33   \n",
       "1  J.K. Rowling, Mary GrandPrÃ© (Illustrator)    4.50   \n",
       "2                                  Harper Lee    4.28   \n",
       "3   Jane Austen, Anna Quindlen (Introduction)    4.26   \n",
       "4                             Stephenie Meyer    3.60   \n",
       "\n",
       "                                               Genre  \\\n",
       "0  ['Young Adult', 'Fiction', 'Dystopia', 'Fantas...   \n",
       "1  ['Fantasy', 'Young Adult', 'Fiction', 'Magic',...   \n",
       "2  ['Classics', 'Fiction', 'Historical Fiction', ...   \n",
       "3  ['Classics', 'Fiction', 'Romance', 'Historical...   \n",
       "4  ['Young Adult', 'Fantasy', 'Romance', 'Vampire...   \n",
       "\n",
       "                          Publisher PublishDate  Unnamed: 6  \n",
       "0                  Scholastic Press    09/14/08         NaN  \n",
       "1                   Scholastic Inc.    09/28/04         NaN  \n",
       "2  Harper Perennial Modern Classics    05/23/06         NaN  \n",
       "3                    Modern Library    10/10/00         NaN  \n",
       "4         Little, Brown and Company      9/6/06         NaN  "
      ]
     },
     "execution_count": 4,
     "metadata": {},
     "output_type": "execute_result"
    }
   ],
   "source": [
    "# Filter out missing values (NaN) in 'Title', 'Author', and 'Publisher' columns\n",
    "df_cleaned = df.dropna(subset=['Title', 'Author', 'Publisher']).copy()\n",
    "df_cleaned.head()"
   ]
  },
  {
   "cell_type": "code",
   "execution_count": 5,
   "id": "34771afd9f07860b",
   "metadata": {
    "collapsed": false,
    "jupyter": {
     "outputs_hidden": false
    }
   },
   "outputs": [
    {
     "data": {
      "text/html": [
       "<div>\n",
       "<style scoped>\n",
       "    .dataframe tbody tr th:only-of-type {\n",
       "        vertical-align: middle;\n",
       "    }\n",
       "\n",
       "    .dataframe tbody tr th {\n",
       "        vertical-align: top;\n",
       "    }\n",
       "\n",
       "    .dataframe thead th {\n",
       "        text-align: right;\n",
       "    }\n",
       "</style>\n",
       "<table border=\"1\" class=\"dataframe\">\n",
       "  <thead>\n",
       "    <tr style=\"text-align: right;\">\n",
       "      <th></th>\n",
       "      <th>Title</th>\n",
       "      <th>Author</th>\n",
       "      <th>Rating</th>\n",
       "      <th>Genre</th>\n",
       "      <th>Publisher</th>\n",
       "      <th>PublishDate</th>\n",
       "    </tr>\n",
       "  </thead>\n",
       "  <tbody>\n",
       "    <tr>\n",
       "      <th>0</th>\n",
       "      <td>The Hunger Games</td>\n",
       "      <td>Suzanne Collins</td>\n",
       "      <td>4.33</td>\n",
       "      <td>['Young Adult', 'Fiction', 'Dystopia', 'Fantas...</td>\n",
       "      <td>Scholastic Press</td>\n",
       "      <td>09/14/08</td>\n",
       "    </tr>\n",
       "    <tr>\n",
       "      <th>1</th>\n",
       "      <td>Harry Potter and the Order of the Phoenix</td>\n",
       "      <td>J.K. Rowling, Mary GrandPrÃ© (Illustrator)</td>\n",
       "      <td>4.50</td>\n",
       "      <td>['Fantasy', 'Young Adult', 'Fiction', 'Magic',...</td>\n",
       "      <td>Scholastic Inc.</td>\n",
       "      <td>09/28/04</td>\n",
       "    </tr>\n",
       "    <tr>\n",
       "      <th>2</th>\n",
       "      <td>To Kill a Mockingbird</td>\n",
       "      <td>Harper Lee</td>\n",
       "      <td>4.28</td>\n",
       "      <td>['Classics', 'Fiction', 'Historical Fiction', ...</td>\n",
       "      <td>Harper Perennial Modern Classics</td>\n",
       "      <td>05/23/06</td>\n",
       "    </tr>\n",
       "    <tr>\n",
       "      <th>3</th>\n",
       "      <td>Pride and Prejudice</td>\n",
       "      <td>Jane Austen, Anna Quindlen (Introduction)</td>\n",
       "      <td>4.26</td>\n",
       "      <td>['Classics', 'Fiction', 'Romance', 'Historical...</td>\n",
       "      <td>Modern Library</td>\n",
       "      <td>10/10/00</td>\n",
       "    </tr>\n",
       "    <tr>\n",
       "      <th>4</th>\n",
       "      <td>Twilight</td>\n",
       "      <td>Stephenie Meyer</td>\n",
       "      <td>3.60</td>\n",
       "      <td>['Young Adult', 'Fantasy', 'Romance', 'Vampire...</td>\n",
       "      <td>Little, Brown and Company</td>\n",
       "      <td>9/6/06</td>\n",
       "    </tr>\n",
       "  </tbody>\n",
       "</table>\n",
       "</div>"
      ],
      "text/plain": [
       "                                       Title  \\\n",
       "0                           The Hunger Games   \n",
       "1  Harry Potter and the Order of the Phoenix   \n",
       "2                      To Kill a Mockingbird   \n",
       "3                        Pride and Prejudice   \n",
       "4                                   Twilight   \n",
       "\n",
       "                                       Author  Rating  \\\n",
       "0                             Suzanne Collins    4.33   \n",
       "1  J.K. Rowling, Mary GrandPrÃ© (Illustrator)    4.50   \n",
       "2                                  Harper Lee    4.28   \n",
       "3   Jane Austen, Anna Quindlen (Introduction)    4.26   \n",
       "4                             Stephenie Meyer    3.60   \n",
       "\n",
       "                                               Genre  \\\n",
       "0  ['Young Adult', 'Fiction', 'Dystopia', 'Fantas...   \n",
       "1  ['Fantasy', 'Young Adult', 'Fiction', 'Magic',...   \n",
       "2  ['Classics', 'Fiction', 'Historical Fiction', ...   \n",
       "3  ['Classics', 'Fiction', 'Romance', 'Historical...   \n",
       "4  ['Young Adult', 'Fantasy', 'Romance', 'Vampire...   \n",
       "\n",
       "                          Publisher PublishDate  \n",
       "0                  Scholastic Press    09/14/08  \n",
       "1                   Scholastic Inc.    09/28/04  \n",
       "2  Harper Perennial Modern Classics    05/23/06  \n",
       "3                    Modern Library    10/10/00  \n",
       "4         Little, Brown and Company      9/6/06  "
      ]
     },
     "execution_count": 5,
     "metadata": {},
     "output_type": "execute_result"
    }
   ],
   "source": [
    "df_cleaned.drop(columns=['Unnamed: 6'], inplace=True)\n",
    "df_cleaned.head()"
   ]
  },
  {
   "cell_type": "code",
   "execution_count": 6,
   "id": "bcf9f7b17118f9bf",
   "metadata": {
    "collapsed": false,
    "jupyter": {
     "outputs_hidden": false
    }
   },
   "outputs": [],
   "source": [
    "# Function to clean the author names\n",
    "def clean_author_name(author_name):\n",
    "    return author_name.split(',')[0]"
   ]
  },
  {
   "cell_type": "code",
   "execution_count": 7,
   "id": "bf2db0287436af54",
   "metadata": {
    "collapsed": false,
    "jupyter": {
     "outputs_hidden": false
    }
   },
   "outputs": [],
   "source": [
    "# Apply the clean_author_name function to the 'Author' column\n",
    "df_cleaned['Author'] = df_cleaned['Author'].apply(clean_author_name)"
   ]
  },
  {
   "cell_type": "code",
   "execution_count": 8,
   "id": "c03e9f2260575652",
   "metadata": {
    "collapsed": false,
    "jupyter": {
     "outputs_hidden": false
    }
   },
   "outputs": [
    {
     "data": {
      "text/html": [
       "<div>\n",
       "<style scoped>\n",
       "    .dataframe tbody tr th:only-of-type {\n",
       "        vertical-align: middle;\n",
       "    }\n",
       "\n",
       "    .dataframe tbody tr th {\n",
       "        vertical-align: top;\n",
       "    }\n",
       "\n",
       "    .dataframe thead th {\n",
       "        text-align: right;\n",
       "    }\n",
       "</style>\n",
       "<table border=\"1\" class=\"dataframe\">\n",
       "  <thead>\n",
       "    <tr style=\"text-align: right;\">\n",
       "      <th></th>\n",
       "      <th>Title</th>\n",
       "      <th>Author</th>\n",
       "      <th>Rating</th>\n",
       "      <th>Genre</th>\n",
       "      <th>Publisher</th>\n",
       "      <th>PublishDate</th>\n",
       "    </tr>\n",
       "  </thead>\n",
       "  <tbody>\n",
       "    <tr>\n",
       "      <th>0</th>\n",
       "      <td>The Hunger Games</td>\n",
       "      <td>Suzanne Collins</td>\n",
       "      <td>4.33</td>\n",
       "      <td>['Young Adult', 'Fiction', 'Dystopia', 'Fantas...</td>\n",
       "      <td>Scholastic Press</td>\n",
       "      <td>09/14/08</td>\n",
       "    </tr>\n",
       "    <tr>\n",
       "      <th>1</th>\n",
       "      <td>Harry Potter and the Order of the Phoenix</td>\n",
       "      <td>J.K. Rowling</td>\n",
       "      <td>4.50</td>\n",
       "      <td>['Fantasy', 'Young Adult', 'Fiction', 'Magic',...</td>\n",
       "      <td>Scholastic Inc.</td>\n",
       "      <td>09/28/04</td>\n",
       "    </tr>\n",
       "    <tr>\n",
       "      <th>2</th>\n",
       "      <td>To Kill a Mockingbird</td>\n",
       "      <td>Harper Lee</td>\n",
       "      <td>4.28</td>\n",
       "      <td>['Classics', 'Fiction', 'Historical Fiction', ...</td>\n",
       "      <td>Harper Perennial Modern Classics</td>\n",
       "      <td>05/23/06</td>\n",
       "    </tr>\n",
       "    <tr>\n",
       "      <th>3</th>\n",
       "      <td>Pride and Prejudice</td>\n",
       "      <td>Jane Austen</td>\n",
       "      <td>4.26</td>\n",
       "      <td>['Classics', 'Fiction', 'Romance', 'Historical...</td>\n",
       "      <td>Modern Library</td>\n",
       "      <td>10/10/00</td>\n",
       "    </tr>\n",
       "    <tr>\n",
       "      <th>4</th>\n",
       "      <td>Twilight</td>\n",
       "      <td>Stephenie Meyer</td>\n",
       "      <td>3.60</td>\n",
       "      <td>['Young Adult', 'Fantasy', 'Romance', 'Vampire...</td>\n",
       "      <td>Little, Brown and Company</td>\n",
       "      <td>9/6/06</td>\n",
       "    </tr>\n",
       "  </tbody>\n",
       "</table>\n",
       "</div>"
      ],
      "text/plain": [
       "                                       Title           Author  Rating  \\\n",
       "0                           The Hunger Games  Suzanne Collins    4.33   \n",
       "1  Harry Potter and the Order of the Phoenix     J.K. Rowling    4.50   \n",
       "2                      To Kill a Mockingbird       Harper Lee    4.28   \n",
       "3                        Pride and Prejudice      Jane Austen    4.26   \n",
       "4                                   Twilight  Stephenie Meyer    3.60   \n",
       "\n",
       "                                               Genre  \\\n",
       "0  ['Young Adult', 'Fiction', 'Dystopia', 'Fantas...   \n",
       "1  ['Fantasy', 'Young Adult', 'Fiction', 'Magic',...   \n",
       "2  ['Classics', 'Fiction', 'Historical Fiction', ...   \n",
       "3  ['Classics', 'Fiction', 'Romance', 'Historical...   \n",
       "4  ['Young Adult', 'Fantasy', 'Romance', 'Vampire...   \n",
       "\n",
       "                          Publisher PublishDate  \n",
       "0                  Scholastic Press    09/14/08  \n",
       "1                   Scholastic Inc.    09/28/04  \n",
       "2  Harper Perennial Modern Classics    05/23/06  \n",
       "3                    Modern Library    10/10/00  \n",
       "4         Little, Brown and Company      9/6/06  "
      ]
     },
     "execution_count": 8,
     "metadata": {},
     "output_type": "execute_result"
    }
   ],
   "source": [
    "df_cleaned.head()"
   ]
  },
  {
   "cell_type": "code",
   "execution_count": 9,
   "id": "448ac13c880fb32e",
   "metadata": {
    "collapsed": false,
    "jupyter": {
     "outputs_hidden": false
    }
   },
   "outputs": [],
   "source": [
    "# Function to convert the Genre strings to lists of genres\n",
    "def convert_genres(genre_str):\n",
    "    try:\n",
    "        genre_list = ast.literal_eval(genre_str)\n",
    "        if not isinstance(genre_list, list):\n",
    "            genre_list = [genre_list]\n",
    "        return genre_list\n",
    "    except (ValueError, SyntaxError):\n",
    "        return []"
   ]
  },
  {
   "cell_type": "code",
   "execution_count": 10,
   "id": "e37f5d364679ee10",
   "metadata": {
    "collapsed": false,
    "jupyter": {
     "outputs_hidden": false
    }
   },
   "outputs": [],
   "source": [
    "# Convert the Genre strings to lists of genres\n",
    "df['Genre'] = df['Genre'].apply(convert_genres)"
   ]
  },
  {
   "cell_type": "code",
   "execution_count": 11,
   "id": "79e2f18591c4fbf5",
   "metadata": {
    "collapsed": false,
    "jupyter": {
     "outputs_hidden": false
    }
   },
   "outputs": [],
   "source": [
    "def vectorize_text(text):\n",
    "    words = text.split()\n",
    "    vec = np.zeros(model.vector_size)\n",
    "    count = 0\n",
    "    for word in words:\n",
    "        if word in model.wv:\n",
    "            vec += np.array(model.wv[word])\n",
    "            count += 1\n",
    "    if count > 0:\n",
    "        return vec / count\n",
    "    return vec"
   ]
  },
  {
   "cell_type": "code",
   "execution_count": 12,
   "id": "c7402a6ec191140a",
   "metadata": {
    "collapsed": false,
    "jupyter": {
     "outputs_hidden": false
    }
   },
   "outputs": [],
   "source": [
    "# Create a Word2Vec model with cleaned data\n",
    "df_cleaned['Text'] = df_cleaned['Title'] + \" \" + df_cleaned['Author'] + \" \" + df_cleaned['Genre'].apply(lambda x: ' '.join(x))\n",
    "model = Word2Vec(sentences=df_cleaned['Text'].str.split(), vector_size=100, window=5, min_count=1, workers=4)"
   ]
  },
  {
   "cell_type": "code",
   "execution_count": 13,
   "id": "abafbf69317834c5",
   "metadata": {
    "collapsed": false,
    "jupyter": {
     "outputs_hidden": false
    }
   },
   "outputs": [],
   "source": [
    "# Vectorize the Text column using .apply\n",
    "df_cleaned.loc[:, 'TextVector'] = df_cleaned['Text'].apply(vectorize_text)"
   ]
  },
  {
   "cell_type": "code",
   "execution_count": 14,
   "id": "3d878c708d0f2720",
   "metadata": {
    "collapsed": false,
    "jupyter": {
     "outputs_hidden": false
    }
   },
   "outputs": [],
   "source": [
    "# Drop any rows containing NaN values in vectors\n",
    "df_cleaned.dropna(subset=['TextVector'], inplace=True)"
   ]
  },
  {
   "cell_type": "code",
   "execution_count": 15,
   "id": "3b3d672fa3192d59",
   "metadata": {
    "collapsed": false,
    "jupyter": {
     "outputs_hidden": false
    }
   },
   "outputs": [],
   "source": [
    "# Fill any remaining NaN values for 'TextVector' with zeros\n",
    "df_cleaned['TextVector'].fillna(0, inplace=True)"
   ]
  },
  {
   "cell_type": "code",
   "execution_count": 16,
   "id": "5ab8831318392e85",
   "metadata": {
    "collapsed": false,
    "jupyter": {
     "outputs_hidden": false
    }
   },
   "outputs": [],
   "source": [
    "# Create similarity matrices\n",
    "title_sim_matrix = cosine_similarity(df_cleaned['TextVector'].tolist())\n",
    "author_sim_matrix = cosine_similarity(df_cleaned['TextVector'].tolist())"
   ]
  },
  {
   "cell_type": "code",
   "execution_count": 17,
   "id": "841db785e8c4dfe4",
   "metadata": {
    "collapsed": false,
    "jupyter": {
     "outputs_hidden": false
    }
   },
   "outputs": [],
   "source": [
    "# Combine the similarity matrices\n",
    "combined_vectors = np.column_stack(df_cleaned['TextVector'].apply(lambda x: np.nan_to_num(x)).tolist())\n",
    "combined_sim_matrix = cosine_similarity(combined_vectors)\n",
    "\n",
    "rating_sim_matrix = 1 - np.abs(df_cleaned['Rating'].values[:, None] - df_cleaned['Rating'].values) / 5"
   ]
  },
  {
   "cell_type": "code",
   "execution_count": 18,
   "id": "16de40066f203471",
   "metadata": {
    "collapsed": false,
    "jupyter": {
     "outputs_hidden": false
    }
   },
   "outputs": [],
   "source": [
    "def recommend_books(book_title, num_recommendations=5):\n",
    "    if len(df_cleaned) == 0:\n",
    "        return \"Not enough books to provide recommendations.\"\n",
    "\n",
    "    if book_title not in df_cleaned['Title'].values:\n",
    "        return f\"Book with title '{book_title}' not found in the database.\"\n",
    "\n",
    "    target_index = df_cleaned[df_cleaned['Title'] == book_title].index[0]\n",
    "\n",
    "    similar_books_indices = np.argsort(title_sim_matrix[target_index])[::-1]\n",
    "\n",
    "    recommended_books = df_cleaned.iloc[similar_books_indices[1:num_recommendations + 1]]\n",
    "    return recommended_books"
   ]
  },
  {
   "cell_type": "code",
   "execution_count": 19,
   "id": "5214d10649172722",
   "metadata": {
    "collapsed": false,
    "jupyter": {
     "outputs_hidden": false
    }
   },
   "outputs": [
    {
     "name": "stdout",
     "output_type": "stream",
     "text": [
      "Title          0\n",
      "Author         0\n",
      "Rating         0\n",
      "Genre          0\n",
      "Publisher      0\n",
      "PublishDate    0\n",
      "Text           0\n",
      "TextVector     0\n",
      "dtype: int64\n"
     ]
    }
   ],
   "source": [
    "# Check for any remaining NaN values\n",
    "print(df_cleaned.isnull().sum())"
   ]
  },
  {
   "cell_type": "code",
   "execution_count": 20,
   "id": "27e2f68f2ba6cdf",
   "metadata": {
    "collapsed": false,
    "jupyter": {
     "outputs_hidden": false
    }
   },
   "outputs": [
    {
     "name": "stdout",
     "output_type": "stream",
     "text": [
      "Title          0\n",
      "Author         0\n",
      "Rating         0\n",
      "Genre          0\n",
      "Publisher      0\n",
      "PublishDate    0\n",
      "Text           0\n",
      "TextVector     0\n",
      "dtype: int64\n",
      "Number of books in the dataset: 9744\n"
     ]
    }
   ],
   "source": [
    "print(df_cleaned.isnull().sum())\n",
    "# Check the number of books in the dataset\n",
    "num_books = len(df_cleaned)\n",
    "print(\"Number of books in the dataset:\", num_books)"
   ]
  },
  {
   "cell_type": "code",
   "execution_count": 21,
   "id": "bae5919863a712fe",
   "metadata": {
    "collapsed": false,
    "jupyter": {
     "outputs_hidden": false
    }
   },
   "outputs": [
    {
     "name": "stdout",
     "output_type": "stream",
     "text": [
      "                             Title             Author  Rating  \\\n",
      "3718                    The Pigman        Paul Zindel    3.59   \n",
      "7930                    I Am David          Anne Holm    3.98   \n",
      "169              Heart of Darkness      Joseph Conrad    3.43   \n",
      "872   Roll of Thunder, Hear My Cry  Mildred D. Taylor    3.84   \n",
      "373               A Separate Peace       John Knowles    3.58   \n",
      "\n",
      "                                                  Genre  \\\n",
      "3718  ['Fiction', 'Young Adult', 'Classics', 'School...   \n",
      "7930  ['Historical Fiction', 'Fiction', 'Young Adult...   \n",
      "169   ['Classics', 'Fiction', 'Literature', 'Africa'...   \n",
      "872   ['Historical Fiction', 'Young Adult', 'Fiction...   \n",
      "373   ['Classics', 'Fiction', 'Young Adult', 'Histor...   \n",
      "\n",
      "                        Publisher       PublishDate  \\\n",
      "3718                   HarperTeen              2005   \n",
      "7930  HMH Books for Young Readers  January 1st 2004   \n",
      "169                 Green Integer           10/1/03   \n",
      "872                  Puffin Books  October 1st 1991   \n",
      "373                      Scribner          09/30/03   \n",
      "\n",
      "                                                   Text  \\\n",
      "3718  The Pigman Paul Zindel [ ' F i c t i o n ' ,  ...   \n",
      "7930  I Am David Anne Holm [ ' H i s t o r i c a l  ...   \n",
      "169   Heart of Darkness Joseph Conrad [ ' C l a s s ...   \n",
      "872   Roll of Thunder, Hear My Cry Mildred D. Taylor...   \n",
      "373   A Separate Peace John Knowles [ ' C l a s s i ...   \n",
      "\n",
      "                                             TextVector  \n",
      "3718  [0.9433081599740455, -0.8448629336503263, -2.4...  \n",
      "7930  [0.9186987220009248, -0.8369651068783095, -2.3...  \n",
      "169   [0.9591766012017615, -0.7894249542659963, -2.4...  \n",
      "872   [0.9286296259331173, -0.7991990455464549, -2.2...  \n",
      "373   [0.9466383788845877, -0.8277303461930645, -2.3...  \n"
     ]
    }
   ],
   "source": [
    "# Replace \"To Kill a Mockingbird\" with the title of your choice for book recommendation\n",
    "recommendations = recommend_books(\"To Kill a Mockingbird\", num_recommendations=5)\n",
    "print(recommendations)"
   ]
  },
  {
   "cell_type": "code",
   "execution_count": 22,
   "id": "d0649bbfb2e6e8ac",
   "metadata": {
    "collapsed": false,
    "jupyter": {
     "outputs_hidden": false
    }
   },
   "outputs": [
    {
     "name": "stdout",
     "output_type": "stream",
     "text": [
      "                                        Title        Author  Rating  \\\n",
      "103       Harry Potter and the Goblet of Fire  J.K. Rowling    4.56   \n",
      "126   Harry Potter and the Chamber of Secrets  J.K. Rowling    4.43   \n",
      "93   Harry Potter and the Prisoner of Azkaban  J.K. Rowling    4.57   \n",
      "105    Harry Potter and the Half-Blood Prince  J.K. Rowling    4.57   \n",
      "32      Harry Potter and the Sorcerer's Stone  J.K. Rowling    4.47   \n",
      "\n",
      "                                                 Genre  \\\n",
      "103  ['Fantasy', 'Young Adult', 'Fiction', 'Magic',...   \n",
      "126  ['Fantasy', 'Young Adult', 'Fiction', 'Magic',...   \n",
      "93   ['Fantasy', 'Young Adult', 'Fiction', 'Magic',...   \n",
      "105  ['Fantasy', 'Young Adult', 'Fiction', 'Magic',...   \n",
      "32   ['Fantasy', 'Fiction', 'Young Adult', 'Magic',...   \n",
      "\n",
      "                                    Publisher PublishDate  \\\n",
      "103                                Scholastic    09/28/02   \n",
      "126  Arthur A. Levine Books / Scholastic Inc.      6/2/99   \n",
      "93                            Scholastic Inc.      5/1/04   \n",
      "105                           Scholastic Inc.    09/16/06   \n",
      "32                             Scholastic Inc     11/1/03   \n",
      "\n",
      "                                                  Text  \\\n",
      "103  Harry Potter and the Goblet of Fire J.K. Rowli...   \n",
      "126  Harry Potter and the Chamber of Secrets J.K. R...   \n",
      "93   Harry Potter and the Prisoner of Azkaban J.K. ...   \n",
      "105  Harry Potter and the Half-Blood Prince J.K. Ro...   \n",
      "32   Harry Potter and the Sorcerer's Stone J.K. Row...   \n",
      "\n",
      "                                            TextVector  \n",
      "103  [0.8527957581219894, -0.8150454820561743, -2.1...  \n",
      "126  [0.8535555203938309, -0.8156681994989734, -2.1...  \n",
      "93   [0.8551340305712074, -0.8166782521396218, -2.1...  \n",
      "105  [0.8701186337128833, -0.8256773873956667, -2.1...  \n",
      "32   [0.870429012513961, -0.8265466076356394, -2.16...  \n"
     ]
    }
   ],
   "source": [
    "# Replace the title of your choice for book recommendation\n",
    "recommendations = recommend_books(\"Harry Potter and the Order of the Phoenix\", num_recommendations=5)\n",
    "print(recommendations)"
   ]
  },
  {
   "cell_type": "code",
   "execution_count": null,
   "id": "3e91e9d4-bb50-4ed8-9dee-4d792f39235e",
   "metadata": {},
   "outputs": [],
   "source": []
  }
 ],
 "metadata": {
  "kernelspec": {
   "display_name": "Python 3 (ipykernel)",
   "language": "python",
   "name": "python3"
  },
  "language_info": {
   "codemirror_mode": {
    "name": "ipython",
    "version": 3
   },
   "file_extension": ".py",
   "mimetype": "text/x-python",
   "name": "python",
   "nbconvert_exporter": "python",
   "pygments_lexer": "ipython3",
   "version": "3.11.4"
  }
 },
 "nbformat": 4,
 "nbformat_minor": 5
}
